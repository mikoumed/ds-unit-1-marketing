{
  "cells": [
    {
      "metadata": {},
      "cell_type": "markdown",
      "source": "![rmotr](https://user-images.githubusercontent.com/7065401/39119486-4718e386-46ec-11e8-9fc3-5250a49ef570.png)\n<hr style=\"margin-bottom: 40px;\">\n\n<img src=\"https://user-images.githubusercontent.com/7065401/39123704-ea58fb38-46f8-11e8-883c-d01f27909c43.jpg\"\n    style=\"width:300px; float: right; margin: 0 40px 40px 40px;\"></img>\n\n# Project assignment: Marketing Analysis\n\nYour homework for today is to clean, normalize and analyze a dataset gathered from shopping mall customers in the San Francisco Bay area. It's a survey done in 1987, so you might expect many data-entry related errors."
    },
    {
      "metadata": {},
      "cell_type": "markdown",
      "source": "![separator2](https://user-images.githubusercontent.com/7065401/39119518-59fa51ce-46ec-11e8-8503-5f8136558f2b.png)\n\n### Hands on! "
    },
    {
      "metadata": {},
      "cell_type": "markdown",
      "source": "The dataset is contained in `data/marketing.csv` along with a file that describes the fields (`data/marketing-description.txt`).\n\nWhat inconsistencies can you find? What are the fields with more issues? How can you transform the data to be expressed in a better way? What variables are related and at what extent?\n\nAll these are the questions that you should be asking and answering."
    },
    {
      "metadata": {
        "trusted": true
      },
      "cell_type": "code",
      "source": "import pandas as pd\nimport numpy as np\nimport matplotlib.pyplot as plt\nimport seaborn as sns\n\n%matplotlib inline\n\nimport warnings\nwarnings.filterwarnings('ignore')",
      "execution_count": 3,
      "outputs": []
    },
    {
      "metadata": {
        "trusted": true
      },
      "cell_type": "code",
      "source": "sns.set(rc={'figure.figsize': (18, 6)})",
      "execution_count": 4,
      "outputs": []
    },
    {
      "metadata": {},
      "cell_type": "markdown",
      "source": "---"
    },
    {
      "metadata": {},
      "cell_type": "markdown",
      "source": "<table style=\"width: 100%; border: 4px solid #00F;\">\n    <tr>\n        <td width=\"80\"><img src=\"https://user-images.githubusercontent.com/7065401/39122907-870d233a-46f6-11e8-84b1-ede5e3714362.png\"></td>\n        <td style=\"font-size: 14px; text-align: left\">\n            <span style=\"color: #00F; font-size: 20px; font-weight: 900; margin-right: 5px;\">1.</span>\n            Load the dataset `data/marketing.csv` as a Pandas dataframe on a variable called `df`.\n        </td>\n    </tr>\n</table>\n\nWe don't want you to get stuck with this step. Reading and parsing CSV's with incorrect structure, encoding or separators can be tedious. Only for this step, the solution is provided. Your job is to keep completing the cells that are empty and have the `Your code goes here` comment."
    },
    {
      "metadata": {
        "trusted": true
      },
      "cell_type": "code",
      "source": "df = pd.read_csv('data/marketing.csv', sep=';')",
      "execution_count": 5,
      "outputs": []
    },
    {
      "metadata": {
        "scrolled": true,
        "trusted": true
      },
      "cell_type": "code",
      "source": "df.head()",
      "execution_count": 6,
      "outputs": [
        {
          "output_type": "execute_result",
          "execution_count": 6,
          "data": {
            "text/html": "<div>\n<table border=\"1\" class=\"dataframe\">\n  <thead>\n    <tr style=\"text-align: right;\">\n      <th></th>\n      <th>Sex</th>\n      <th>MaritalStatus</th>\n      <th>Age</th>\n      <th>Education</th>\n      <th>Occupation</th>\n      <th>YearsInSf</th>\n      <th>DualIncome</th>\n      <th>HouseholdMembers</th>\n      <th>Under18</th>\n      <th>HouseholdStatus</th>\n      <th>TypeOfHome</th>\n      <th>EthnicClass</th>\n      <th>Language</th>\n      <th>AnualIncome</th>\n    </tr>\n  </thead>\n  <tbody>\n    <tr>\n      <th>1</th>\n      <td>2</td>\n      <td>1</td>\n      <td>5.0</td>\n      <td>4</td>\n      <td>5</td>\n      <td>5</td>\n      <td>3</td>\n      <td>3</td>\n      <td>0</td>\n      <td>Own</td>\n      <td>1</td>\n      <td>7</td>\n      <td>?</td>\n      <td>76004</td>\n    </tr>\n    <tr>\n      <th>2</th>\n      <td>Male</td>\n      <td>1</td>\n      <td>5.0</td>\n      <td>5</td>\n      <td>5</td>\n      <td>5</td>\n      <td>3</td>\n      <td>5</td>\n      <td>2</td>\n      <td>Own</td>\n      <td>1</td>\n      <td>7</td>\n      <td>1</td>\n      <td>76004</td>\n    </tr>\n    <tr>\n      <th>3</th>\n      <td>2</td>\n      <td>1</td>\n      <td>3.0</td>\n      <td>5</td>\n      <td>1</td>\n      <td>5</td>\n      <td>2</td>\n      <td>3</td>\n      <td>1</td>\n      <td>Rent</td>\n      <td>3</td>\n      <td>7</td>\n      <td>1</td>\n      <td>34000</td>\n    </tr>\n    <tr>\n      <th>4</th>\n      <td>2</td>\n      <td>5</td>\n      <td>1.0</td>\n      <td>2</td>\n      <td>6</td>\n      <td>5</td>\n      <td>1</td>\n      <td>4</td>\n      <td>2</td>\n      <td>Live with Parents/Family</td>\n      <td>1</td>\n      <td>7</td>\n      <td>1</td>\n      <td>9136</td>\n    </tr>\n    <tr>\n      <th>5</th>\n      <td>2</td>\n      <td>5</td>\n      <td>1.0</td>\n      <td>2</td>\n      <td>6</td>\n      <td>3</td>\n      <td>1</td>\n      <td>4</td>\n      <td>2</td>\n      <td>Live with Parents/Family</td>\n      <td>1</td>\n      <td>7</td>\n      <td>1</td>\n      <td>9136</td>\n    </tr>\n  </tbody>\n</table>\n</div>",
            "text/plain": "    Sex MaritalStatus  Age Education Occupation YearsInSf  DualIncome  \\\n1     2             1  5.0         4          5         5           3   \n2  Male             1  5.0         5          5         5           3   \n3     2             1  3.0         5          1         5           2   \n4     2             5  1.0         2          6         5           1   \n5     2             5  1.0         2          6         3           1   \n\n  HouseholdMembers  Under18           HouseholdStatus TypeOfHome EthnicClass  \\\n1                3        0                       Own          1           7   \n2                5        2                       Own          1           7   \n3                3        1                      Rent          3           7   \n4                4        2  Live with Parents/Family          1           7   \n5                4        2  Live with Parents/Family          1           7   \n\n  Language AnualIncome  \n1        ?       76004  \n2        1       76004  \n3        1       34000  \n4        1        9136  \n5        1        9136  "
          },
          "metadata": {}
        }
      ]
    },
    {
      "metadata": {},
      "cell_type": "markdown",
      "source": "---"
    },
    {
      "metadata": {},
      "cell_type": "markdown",
      "source": "![separator1](https://user-images.githubusercontent.com/7065401/39119545-6d73d9aa-46ec-11e8-98d3-40204614f000.png)\n\n<table style=\"width: 100%; border: 4px solid #00F;\">\n    <tr>\n        <td width=\"80\"><img src=\"https://user-images.githubusercontent.com/7065401/39122907-870d233a-46f6-11e8-84b1-ede5e3714362.png\"></td>\n        <td style=\"font-size: 14px; text-align: left\">\n            <span style=\"color: #00F; font-size: 20px; font-weight: 900; margin-right: 5px;\">2.</span>\n            Check if there is any null value on the dataframe.\n        </td>\n    </tr>\n</table>\n\n> ⚠️ <i>Sometimes null values are represented by special characters, check <b>unique values</b> to find them.</i>"
    },
    {
      "metadata": {
        "trusted": true
      },
      "cell_type": "code",
      "source": "# Your code goes here\ndf.isnull().sum()",
      "execution_count": 7,
      "outputs": [
        {
          "output_type": "execute_result",
          "execution_count": 7,
          "data": {
            "text/plain": "Sex                  3\nMaritalStatus        2\nAge                  2\nEducation            1\nOccupation          12\nYearsInSf            0\nDualIncome           0\nHouseholdMembers     4\nUnder18              0\nHouseholdStatus      3\nTypeOfHome           0\nEthnicClass          4\nLanguage             1\nAnualIncome          6\ndtype: int64"
          },
          "metadata": {}
        }
      ]
    },
    {
      "metadata": {
        "trusted": true
      },
      "cell_type": "code",
      "source": "for column in df:\n    print('{} values are: {}'.format(column, df[column].unique()))",
      "execution_count": 8,
      "outputs": [
        {
          "output_type": "stream",
          "text": "Sex values are: ['2' 'Male' '8' nan '9']\nMaritalStatus values are: ['1' '5' '3' '2' '4' '?' nan]\nAge values are: [ 5.  3.  1.  6.  2.  7.  4. nan]\nEducation values are: ['4' '5' '2' '3' '6' nan '1' '?']\nOccupation values are: ['5' '1' '6' '8' '9' '3' '2' '?' nan '4' '7']\nYearsInSf values are: ['5' '3' '4' '2' '1' '?']\nDualIncome values are: [3 2 1]\nHouseholdMembers values are: ['3' '5' '4' '2' '1' nan '6' '?' '7' '8' '9']\nUnder18 values are: [0 2 1 3 4 5 6 8 7 9]\nHouseholdStatus values are: ['Own' 'Rent' 'Live with Parents/Family' nan '?' 'Rental'\n 'Live with Parents' 'Live with Family' 'Live with Fam']\nTypeOfHome values are: ['1' '3' '5' '2' '4' '?']\nEthnicClass values are: ['7' '5' '2' '3' '8' '4' '1' '?' '6' nan]\nLanguage values are: ['?' '1' '2' '3' nan]\nAnualIncome values are: ['76004' '34000' '9136' '66994' '32171' '11703' '21672' '46894'\n '7600000000000000004' '27591' '19997' '253600' '35500' '7' '7540' '?' nan\n '91000000000036' '468940000000000000000000000000' '5740' '460' '15500'\n '2460' '9460' '150500' '75500']\n",
          "name": "stdout"
        }
      ]
    },
    {
      "metadata": {},
      "cell_type": "markdown",
      "source": "---"
    },
    {
      "metadata": {},
      "cell_type": "markdown",
      "source": "![separator1](https://user-images.githubusercontent.com/7065401/39119545-6d73d9aa-46ec-11e8-98d3-40204614f000.png)\n\n<table style=\"width: 100%; border: 4px solid #00F;\">\n    <tr>\n        <td width=\"80\"><img src=\"https://user-images.githubusercontent.com/7065401/39122907-870d233a-46f6-11e8-84b1-ede5e3714362.png\"></td>\n        <td style=\"font-size: 14px; text-align: left\">\n            <span style=\"color: #00F; font-size: 20px; font-weight: 900; margin-right: 5px;\">3.</span>\n            Remove the rows that contain invalid values.\n        </td>\n    </tr>\n</table>"
    },
    {
      "metadata": {
        "trusted": true
      },
      "cell_type": "code",
      "source": "# Your code goes here\ndf = df.replace({'?': np.nan})\n",
      "execution_count": 9,
      "outputs": []
    },
    {
      "metadata": {
        "trusted": true
      },
      "cell_type": "code",
      "source": "df = df.replace({\n    'Sex': {\n        'Male': '1',\n        '8' : np.nan,\n        '9' : np.nan\n    }\n})",
      "execution_count": 10,
      "outputs": []
    },
    {
      "metadata": {
        "trusted": true
      },
      "cell_type": "code",
      "source": "df = df.dropna()",
      "execution_count": 11,
      "outputs": []
    },
    {
      "metadata": {
        "trusted": true
      },
      "cell_type": "code",
      "source": "for column in df:\n    print('{} values are: {}'.format(column, df[column].unique()))\n    ",
      "execution_count": 12,
      "outputs": [
        {
          "output_type": "stream",
          "text": "Sex values are: ['1' '2']\nMaritalStatus values are: ['1' '5' '3' '2' '4']\nAge values are: [5. 3. 1. 6. 2. 7. 4.]\nEducation values are: ['5' '2' '4' '3' '6' '1']\nOccupation values are: ['5' '1' '6' '8' '9' '3' '2' '4' '7']\nYearsInSf values are: ['5' '3' '4' '2' '1']\nDualIncome values are: [3 2 1]\nHouseholdMembers values are: ['5' '3' '4' '2' '1' '6' '7' '9' '8']\nUnder18 values are: [2 1 0 3 4 5 6 8 7 9]\nHouseholdStatus values are: ['Own' 'Rent' 'Live with Parents/Family' 'Rental' 'Live with Parents'\n 'Live with Family' 'Live with Fam']\nTypeOfHome values are: ['1' '3' '5' '2' '4']\nEthnicClass values are: ['7' '5' '2' '3' '4' '8' '1' '6']\nLanguage values are: ['1' '3' '2']\nAnualIncome values are: ['76004' '34000' '9136' '66994' '32171' '11703' '21672' '46894' '27591'\n '19997' '253600' '7' '7540' '91000000000036' '5740' '460' '2460' '9460'\n '150500' '75500']\n",
          "name": "stdout"
        }
      ]
    },
    {
      "metadata": {},
      "cell_type": "markdown",
      "source": "---"
    },
    {
      "metadata": {},
      "cell_type": "markdown",
      "source": "![separator1](https://user-images.githubusercontent.com/7065401/39119545-6d73d9aa-46ec-11e8-98d3-40204614f000.png)\n\n<table style=\"width: 100%; border: 4px solid #00F;\">\n    <tr>\n        <td width=\"80\"><img src=\"https://user-images.githubusercontent.com/7065401/39122907-870d233a-46f6-11e8-84b1-ede5e3714362.png\"></td>\n        <td style=\"font-size: 14px; text-align: left\">\n            <span style=\"color: #00F; font-size: 20px; font-weight: 900; margin-right: 5px;\">4.</span>\n            Show <b>basic descriptive statistics</b> (mean, mix, max...) of the data.\n        </td>\n    </tr>\n</table>"
    },
    {
      "metadata": {
        "trusted": true
      },
      "cell_type": "code",
      "source": "# Your code goes here\ndf.describe()\n",
      "execution_count": 13,
      "outputs": [
        {
          "output_type": "execute_result",
          "execution_count": 13,
          "data": {
            "text/html": "<div>\n<table border=\"1\" class=\"dataframe\">\n  <thead>\n    <tr style=\"text-align: right;\">\n      <th></th>\n      <th>Age</th>\n      <th>DualIncome</th>\n      <th>Under18</th>\n    </tr>\n  </thead>\n  <tbody>\n    <tr>\n      <th>count</th>\n      <td>6845.000000</td>\n      <td>6845.000000</td>\n      <td>6845.000000</td>\n    </tr>\n    <tr>\n      <th>mean</th>\n      <td>3.407889</td>\n      <td>1.549744</td>\n      <td>0.688240</td>\n    </tr>\n    <tr>\n      <th>std</th>\n      <td>1.609857</td>\n      <td>0.737680</td>\n      <td>1.082828</td>\n    </tr>\n    <tr>\n      <th>min</th>\n      <td>1.000000</td>\n      <td>1.000000</td>\n      <td>0.000000</td>\n    </tr>\n    <tr>\n      <th>25%</th>\n      <td>2.000000</td>\n      <td>1.000000</td>\n      <td>0.000000</td>\n    </tr>\n    <tr>\n      <th>50%</th>\n      <td>3.000000</td>\n      <td>1.000000</td>\n      <td>0.000000</td>\n    </tr>\n    <tr>\n      <th>75%</th>\n      <td>4.000000</td>\n      <td>2.000000</td>\n      <td>1.000000</td>\n    </tr>\n    <tr>\n      <th>max</th>\n      <td>7.000000</td>\n      <td>3.000000</td>\n      <td>9.000000</td>\n    </tr>\n  </tbody>\n</table>\n</div>",
            "text/plain": "               Age   DualIncome      Under18\ncount  6845.000000  6845.000000  6845.000000\nmean      3.407889     1.549744     0.688240\nstd       1.609857     0.737680     1.082828\nmin       1.000000     1.000000     0.000000\n25%       2.000000     1.000000     0.000000\n50%       3.000000     1.000000     0.000000\n75%       4.000000     2.000000     1.000000\nmax       7.000000     3.000000     9.000000"
          },
          "metadata": {}
        }
      ]
    },
    {
      "metadata": {},
      "cell_type": "markdown",
      "source": "---"
    },
    {
      "metadata": {},
      "cell_type": "markdown",
      "source": "![separator1](https://user-images.githubusercontent.com/7065401/39119545-6d73d9aa-46ec-11e8-98d3-40204614f000.png)\n\n<table style=\"width: 100%; border: 4px solid #00F;\">\n    <tr>\n        <td width=\"80\"><img src=\"https://user-images.githubusercontent.com/7065401/39122907-870d233a-46f6-11e8-84b1-ede5e3714362.png\"></td>\n        <td style=\"font-size: 14px; text-align: left\">\n            <span style=\"color: #00F; font-size: 20px; font-weight: 900; margin-right: 5px;\">5.</span>\n            Show a boxplot of `AnualIncome` variable.\n        </td>\n    </tr>\n</table>"
    },
    {
      "metadata": {
        "scrolled": false,
        "trusted": true
      },
      "cell_type": "code",
      "source": "# Your code goes here\n\nsns.boxplot(data=df['AnualIncome'].to_frame())",
      "execution_count": 14,
      "outputs": [
        {
          "output_type": "execute_result",
          "execution_count": 14,
          "data": {
            "text/plain": "<matplotlib.axes._subplots.AxesSubplot at 0x7f9796d09278>"
          },
          "metadata": {}
        },
        {
          "output_type": "display_data",
          "data": {
            "image/png": "[encoded data removed]",
            "text/plain": "<matplotlib.figure.Figure at 0x7f9796d76b00>"
          },
          "metadata": {}
        }
      ]
    },
    {
      "metadata": {},
      "cell_type": "markdown",
      "source": "---"
    },
    {
      "metadata": {},
      "cell_type": "markdown",
      "source": "![separator1](https://user-images.githubusercontent.com/7065401/39119545-6d73d9aa-46ec-11e8-98d3-40204614f000.png)\n\n<table style=\"width: 100%; border: 4px solid #00F;\">\n    <tr>\n        <td width=\"80\"><img src=\"https://user-images.githubusercontent.com/7065401/39122907-870d233a-46f6-11e8-84b1-ede5e3714362.png\"></td>\n        <td style=\"font-size: 14px; text-align: left\">\n            <span style=\"color: #00F; font-size: 20px; font-weight: 900; margin-right: 5px;\">6.</span>\n            Identify outlier values on `AnualIncome` and remove them.\n        </td>\n    </tr>\n</table>"
    },
    {
      "metadata": {
        "trusted": true
      },
      "cell_type": "code",
      "source": "# Your code goes here\n\ndf['AnualIncome'].unique()",
      "execution_count": 15,
      "outputs": [
        {
          "output_type": "execute_result",
          "execution_count": 15,
          "data": {
            "text/plain": "array(['76004', '34000', '9136', '66994', '32171', '11703', '21672',\n       '46894', '27591', '19997', '253600', '7', '7540', '91000000000036',\n       '5740', '460', '2460', '9460', '150500', '75500'], dtype=object)"
          },
          "metadata": {}
        }
      ]
    },
    {
      "metadata": {
        "trusted": true
      },
      "cell_type": "code",
      "source": "outliers = ['253600','91000000000036', '150500']\ndf = df.loc[~df['AnualIncome'].isin(outliers)]\ndf['AnualIncome'].unique()",
      "execution_count": 16,
      "outputs": [
        {
          "output_type": "execute_result",
          "execution_count": 16,
          "data": {
            "text/plain": "array(['76004', '34000', '9136', '66994', '32171', '11703', '21672',\n       '46894', '27591', '19997', '7', '7540', '5740', '460', '2460',\n       '9460', '75500'], dtype=object)"
          },
          "metadata": {}
        }
      ]
    },
    {
      "metadata": {
        "trusted": true
      },
      "cell_type": "code",
      "source": "sns.boxplot(data=df['AnualIncome'].to_frame())",
      "execution_count": 17,
      "outputs": [
        {
          "output_type": "execute_result",
          "execution_count": 17,
          "data": {
            "text/plain": "<matplotlib.axes._subplots.AxesSubplot at 0x7f9796d09240>"
          },
          "metadata": {}
        },
        {
          "output_type": "display_data",
          "data": {
            "image/png": "[encoded data removed]",
            "text/plain": "<matplotlib.figure.Figure at 0x7f9796d4aa90>"
          },
          "metadata": {}
        }
      ]
    },
    {
      "metadata": {},
      "cell_type": "markdown",
      "source": "---"
    },
    {
      "metadata": {},
      "cell_type": "markdown",
      "source": "![separator1](https://user-images.githubusercontent.com/7065401/39119545-6d73d9aa-46ec-11e8-98d3-40204614f000.png)\n\n<table style=\"width: 100%; border: 4px solid #00F;\">\n    <tr>\n        <td width=\"80\"><img src=\"https://user-images.githubusercontent.com/7065401/39122907-870d233a-46f6-11e8-84b1-ede5e3714362.png\"></td>\n        <td style=\"font-size: 14px; text-align: left\">\n            <span style=\"color: #00F; font-size: 20px; font-weight: 900; margin-right: 5px;\">7.</span>\n            Show two different `countplot` for `Sex` and `Education` variables.\n        </td>\n    </tr>\n</table>"
    },
    {
      "metadata": {
        "scrolled": false,
        "trusted": true
      },
      "cell_type": "code",
      "source": "# Your code goes here\nsns.countplot(data=df, x='Sex')\n",
      "execution_count": 18,
      "outputs": [
        {
          "output_type": "execute_result",
          "execution_count": 18,
          "data": {
            "text/plain": "<matplotlib.axes._subplots.AxesSubplot at 0x7f97969f1ef0>"
          },
          "metadata": {}
        },
        {
          "output_type": "display_data",
          "data": {
            "image/png": "[encoded data removed]",
            "text/plain": "<matplotlib.figure.Figure at 0x7f9796994e80>"
          },
          "metadata": {}
        }
      ]
    },
    {
      "metadata": {
        "trusted": false
      },
      "cell_type": "code",
      "source": "# Your code goes here\n\nsns.countplot(data=df, x='Education')",
      "execution_count": 16,
      "outputs": [
        {
          "data": {
            "text/plain": "<matplotlib.axes._subplots.AxesSubplot at 0x1103f9ef0>"
          },
          "execution_count": 16,
          "metadata": {},
          "output_type": "execute_result"
        },
        {
          "data": {
            "image/png": "[encoded data removed]",
            "text/plain": "<Figure size 1296x432 with 1 Axes>"
          },
          "metadata": {},
          "output_type": "display_data"
        }
      ]
    },
    {
      "metadata": {},
      "cell_type": "markdown",
      "source": "---"
    },
    {
      "metadata": {},
      "cell_type": "markdown",
      "source": "![separator1](https://user-images.githubusercontent.com/7065401/39119545-6d73d9aa-46ec-11e8-98d3-40204614f000.png)\n\n<table style=\"width: 100%; border: 4px solid #00F;\">\n    <tr>\n        <td width=\"80\"><img src=\"https://user-images.githubusercontent.com/7065401/39122907-870d233a-46f6-11e8-84b1-ede5e3714362.png\"></td>\n        <td style=\"font-size: 14px; text-align: left\">\n            <span style=\"color: #00F; font-size: 20px; font-weight: 900; margin-right: 5px;\">8.</span>\n            Show only `Sex` and `HouseholdStatus` of the first 20 observations.\n        </td>\n    </tr>\n</table>"
    },
    {
      "metadata": {
        "trusted": true
      },
      "cell_type": "code",
      "source": "# Your code goes here\n\ndf[['Sex', 'HouseholdStatus']][0:20]",
      "execution_count": 19,
      "outputs": [
        {
          "output_type": "execute_result",
          "execution_count": 19,
          "data": {
            "text/html": "<div>\n<table border=\"1\" class=\"dataframe\">\n  <thead>\n    <tr style=\"text-align: right;\">\n      <th></th>\n      <th>Sex</th>\n      <th>HouseholdStatus</th>\n    </tr>\n  </thead>\n  <tbody>\n    <tr>\n      <th>2</th>\n      <td>1</td>\n      <td>Own</td>\n    </tr>\n    <tr>\n      <th>3</th>\n      <td>2</td>\n      <td>Rent</td>\n    </tr>\n    <tr>\n      <th>4</th>\n      <td>2</td>\n      <td>Live with Parents/Family</td>\n    </tr>\n    <tr>\n      <th>5</th>\n      <td>2</td>\n      <td>Live with Parents/Family</td>\n    </tr>\n    <tr>\n      <th>6</th>\n      <td>1</td>\n      <td>Own</td>\n    </tr>\n    <tr>\n      <th>7</th>\n      <td>1</td>\n      <td>Rent</td>\n    </tr>\n    <tr>\n      <th>8</th>\n      <td>1</td>\n      <td>Rent</td>\n    </tr>\n    <tr>\n      <th>9</th>\n      <td>1</td>\n      <td>Rent</td>\n    </tr>\n    <tr>\n      <th>10</th>\n      <td>1</td>\n      <td>Rent</td>\n    </tr>\n    <tr>\n      <th>11</th>\n      <td>1</td>\n      <td>Rent</td>\n    </tr>\n    <tr>\n      <th>12</th>\n      <td>2</td>\n      <td>Own</td>\n    </tr>\n    <tr>\n      <th>13</th>\n      <td>2</td>\n      <td>Own</td>\n    </tr>\n    <tr>\n      <th>14</th>\n      <td>2</td>\n      <td>Rent</td>\n    </tr>\n    <tr>\n      <th>16</th>\n      <td>2</td>\n      <td>Own</td>\n    </tr>\n    <tr>\n      <th>17</th>\n      <td>2</td>\n      <td>Rent</td>\n    </tr>\n    <tr>\n      <th>19</th>\n      <td>2</td>\n      <td>Rent</td>\n    </tr>\n    <tr>\n      <th>21</th>\n      <td>1</td>\n      <td>Rent</td>\n    </tr>\n    <tr>\n      <th>23</th>\n      <td>1</td>\n      <td>Own</td>\n    </tr>\n    <tr>\n      <th>24</th>\n      <td>2</td>\n      <td>Rent</td>\n    </tr>\n    <tr>\n      <th>25</th>\n      <td>2</td>\n      <td>Live with Parents/Family</td>\n    </tr>\n  </tbody>\n</table>\n</div>",
            "text/plain": "   Sex           HouseholdStatus\n2    1                       Own\n3    2                      Rent\n4    2  Live with Parents/Family\n5    2  Live with Parents/Family\n6    1                       Own\n7    1                      Rent\n8    1                      Rent\n9    1                      Rent\n10   1                      Rent\n11   1                      Rent\n12   2                       Own\n13   2                       Own\n14   2                      Rent\n16   2                       Own\n17   2                      Rent\n19   2                      Rent\n21   1                      Rent\n23   1                       Own\n24   2                      Rent\n25   2  Live with Parents/Family"
          },
          "metadata": {}
        }
      ]
    },
    {
      "metadata": {},
      "cell_type": "markdown",
      "source": "---"
    },
    {
      "metadata": {},
      "cell_type": "markdown",
      "source": "![separator1](https://user-images.githubusercontent.com/7065401/39119545-6d73d9aa-46ec-11e8-98d3-40204614f000.png)\n\n<table style=\"width: 100%; border: 4px solid #00F;\">\n    <tr>\n        <td width=\"80\"><img src=\"https://user-images.githubusercontent.com/7065401/39122907-870d233a-46f6-11e8-84b1-ede5e3714362.png\"></td>\n        <td style=\"font-size: 14px; text-align: left\">\n            <span style=\"color: #00F; font-size: 20px; font-weight: 900; margin-right: 5px;\">9.</span>\n            Show only `MaritalStatus` of the observations in position 247.\n        </td>\n    </tr>\n</table>"
    },
    {
      "metadata": {
        "trusted": true
      },
      "cell_type": "code",
      "source": "# Your code goes here\ndf['MaritalStatus'][247]\n",
      "execution_count": 20,
      "outputs": [
        {
          "output_type": "execute_result",
          "execution_count": 20,
          "data": {
            "text/plain": "'1'"
          },
          "metadata": {}
        }
      ]
    },
    {
      "metadata": {},
      "cell_type": "markdown",
      "source": "---"
    },
    {
      "metadata": {},
      "cell_type": "markdown",
      "source": "![separator1](https://user-images.githubusercontent.com/7065401/39119545-6d73d9aa-46ec-11e8-98d3-40204614f000.png)\n\n<table style=\"width: 100%; border: 4px solid #00F;\">\n    <tr>\n        <td width=\"80\"><img src=\"https://user-images.githubusercontent.com/7065401/39122907-870d233a-46f6-11e8-84b1-ede5e3714362.png\"></td>\n        <td style=\"font-size: 14px; text-align: left\">\n            <span style=\"color: #00F; font-size: 20px; font-weight: 900; margin-right: 5px;\">10.</span>\n            How many males answered the survey?\n        </td>\n    </tr>\n</table>"
    },
    {
      "metadata": {
        "trusted": true
      },
      "cell_type": "code",
      "source": "# Your code goes here\n\ndf['Sex'][df['Sex'] == '1'].count()",
      "execution_count": 21,
      "outputs": [
        {
          "output_type": "execute_result",
          "execution_count": 21,
          "data": {
            "text/plain": "3049"
          },
          "metadata": {}
        }
      ]
    },
    {
      "metadata": {},
      "cell_type": "markdown",
      "source": "---"
    },
    {
      "metadata": {},
      "cell_type": "markdown",
      "source": "![separator1](https://user-images.githubusercontent.com/7065401/39119545-6d73d9aa-46ec-11e8-98d3-40204614f000.png)\n\n<table style=\"width: 100%; border: 4px solid #00F;\">\n    <tr>\n        <td width=\"80\"><img src=\"https://user-images.githubusercontent.com/7065401/39122907-870d233a-46f6-11e8-84b1-ede5e3714362.png\"></td>\n        <td style=\"font-size: 14px; text-align: left\">\n            <span style=\"color: #00F; font-size: 20px; font-weight: 900; margin-right: 5px;\">11.</span>\n            How many people \"Live with Parents/Family\"?\n        </td>\n    </tr>\n</table>\n\n> ⚠️ <i>Remember \"Live with Parents/Family\" is on `HouseholdStatus` column.</i>"
    },
    {
      "metadata": {
        "trusted": true
      },
      "cell_type": "code",
      "source": "# Your code goes here\n\ndf['HouseholdStatus'][df['HouseholdStatus'] == 'Live with Parents/Family'].count()",
      "execution_count": null,
      "outputs": []
    },
    {
      "metadata": {},
      "cell_type": "markdown",
      "source": "---"
    },
    {
      "metadata": {},
      "cell_type": "markdown",
      "source": "![separator2](https://user-images.githubusercontent.com/7065401/39119518-59fa51ce-46ec-11e8-8503-5f8136558f2b.png)\n\n### Optional exercises"
    },
    {
      "metadata": {},
      "cell_type": "markdown",
      "source": "![separator1](https://user-images.githubusercontent.com/7065401/39119545-6d73d9aa-46ec-11e8-98d3-40204614f000.png)\n\n<table style=\"width: 100%; border: 4px solid #00F;\">\n    <tr>\n        <td width=\"80\"><img src=\"https://user-images.githubusercontent.com/7065401/39122907-870d233a-46f6-11e8-84b1-ede5e3714362.png\"></td>\n        <td style=\"font-size: 14px; text-align: left\">\n            <span style=\"color: #00F; font-size: 20px; font-weight: 900; margin-right: 5px;\">12.</span>\n            What is the most common `EthnicClass`?\n        </td>\n    </tr>\n</table>"
    },
    {
      "metadata": {
        "trusted": false
      },
      "cell_type": "code",
      "source": "# Your code goes here\ndf.groupby('EthnicClass')['EthnicClass'].count().sort_values(ascending=False)\n",
      "execution_count": 17,
      "outputs": []
    },
    {
      "metadata": {},
      "cell_type": "markdown",
      "source": "---"
    },
    {
      "metadata": {},
      "cell_type": "markdown",
      "source": "![separator1](https://user-images.githubusercontent.com/7065401/39119545-6d73d9aa-46ec-11e8-98d3-40204614f000.png)\n\n<table style=\"width: 100%; border: 4px solid #00F;\">\n    <tr>\n        <td width=\"80\"><img src=\"https://user-images.githubusercontent.com/7065401/39122907-870d233a-46f6-11e8-84b1-ede5e3714362.png\"></td>\n        <td style=\"font-size: 14px; text-align: left\">\n            <span style=\"color: #00F; font-size: 20px; font-weight: 900; margin-right: 5px;\">13.</span>\n            Which occupation gets the highest anual income?\n        </td>\n    </tr>\n</table>"
    },
    {
      "metadata": {
        "trusted": false
      },
      "cell_type": "code",
      "source": "# parse AnualIncome as int\ndf['AnualIncome'] = df['AnualIncome'].apply(int)\n\n# Your code goes here\ndf.groupby('Occupation')['Occupation', 'AnualIncome'].sum().sort_values(by='AnualIncome', ascending=False)\n",
      "execution_count": 19,
      "outputs": []
    },
    {
      "metadata": {},
      "cell_type": "markdown",
      "source": "![separator2](https://user-images.githubusercontent.com/7065401/39119518-59fa51ce-46ec-11e8-8503-5f8136558f2b.png)"
    }
  ],
  "metadata": {
    "kernelspec": {
      "name": "python3",
      "display_name": "Python 3",
      "language": "python"
    },
    "language_info": {
      "mimetype": "text/x-python",
      "nbconvert_exporter": "python",
      "name": "python",
      "pygments_lexer": "ipython3",
      "version": "3.5.4",
      "file_extension": ".py",
      "codemirror_mode": {
        "version": 3,
        "name": "ipython"
      }
    }
  },
  "nbformat": 4,
  "nbformat_minor": 2
}